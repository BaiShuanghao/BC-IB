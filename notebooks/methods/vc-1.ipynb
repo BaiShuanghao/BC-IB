{
 "cells": [
  {
   "cell_type": "code",
   "execution_count": 1,
   "metadata": {},
   "outputs": [],
   "source": [
    "import torchvision\n",
    "from PIL import Image\n",
    "\n",
    "import vc_models\n",
    "from vc_models.models.vit import model_utils"
   ]
  },
  {
   "cell_type": "code",
   "execution_count": 2,
   "metadata": {},
   "outputs": [],
   "source": [
    "load_path = \"/baishuanghao/model/vc-1\"\n",
    "model, embd_size, model_transforms, model_info = model_utils.load_model(model_utils.VC1_BASE_NAME, load_path=load_path)"
   ]
  },
  {
   "cell_type": "code",
   "execution_count": 3,
   "metadata": {},
   "outputs": [
    {
     "name": "stdout",
     "output_type": "stream",
     "text": [
      "torch.Size([1, 3, 1024, 1024])\n",
      "tensor([[[[0.2980, 0.2588, 0.2431,  ..., 0.1059, 0.0941, 0.0902],\n",
      "          [0.3529, 0.3216, 0.3216,  ..., 0.0824, 0.0588, 0.0431],\n",
      "          [0.3608, 0.3137, 0.3216,  ..., 0.0353, 0.0039, 0.0000],\n",
      "          ...,\n",
      "          [0.0353, 0.0353, 0.0353,  ..., 0.1294, 0.1294, 0.1255],\n",
      "          [0.0353, 0.0353, 0.0353,  ..., 0.0941, 0.1137, 0.1216],\n",
      "          [0.0314, 0.0314, 0.0314,  ..., 0.0510, 0.0745, 0.0941]],\n",
      "\n",
      "         [[0.3490, 0.3059, 0.2941,  ..., 0.1333, 0.1255, 0.1216],\n",
      "          [0.4039, 0.3725, 0.3725,  ..., 0.1137, 0.0902, 0.0745],\n",
      "          [0.4118, 0.3608, 0.3725,  ..., 0.0667, 0.0353, 0.0314],\n",
      "          ...,\n",
      "          [0.0353, 0.0314, 0.0314,  ..., 0.1255, 0.1294, 0.1216],\n",
      "          [0.0314, 0.0314, 0.0314,  ..., 0.0902, 0.1137, 0.1176],\n",
      "          [0.0314, 0.0314, 0.0314,  ..., 0.0471, 0.0706, 0.0902]],\n",
      "\n",
      "         [[0.4588, 0.4157, 0.4039,  ..., 0.1216, 0.1098, 0.1059],\n",
      "          [0.5137, 0.4784, 0.4784,  ..., 0.0980, 0.0745, 0.0627],\n",
      "          [0.5216, 0.4706, 0.4784,  ..., 0.0510, 0.0196, 0.0157],\n",
      "          ...,\n",
      "          [0.0314, 0.0314, 0.0314,  ..., 0.1137, 0.1137, 0.1098],\n",
      "          [0.0275, 0.0275, 0.0275,  ..., 0.0784, 0.0980, 0.1059],\n",
      "          [0.0275, 0.0275, 0.0275,  ..., 0.0392, 0.0588, 0.0824]]]])\n",
      "torch.Size([1, 3, 224, 224])\n"
     ]
    }
   ],
   "source": [
    "# The img loaded should be Bx3x250x250\n",
    "image_path = \"/baishuanghao/code/BC-IB/third_party/methods/voltron-robotics/examples/verification/img/peel-carrot-initial.png\"\n",
    "orig_img = Image.open(image_path)\n",
    "type(orig_img)\n",
    "\n",
    "img_transform = torchvision.transforms.ToTensor()\n",
    "img = img_transform(orig_img)\n",
    "img = img.unsqueeze(0)\n",
    "print(img.shape)\n",
    "print(img)\n",
    "\n",
    "# Output will be of size Bx3x224x224\n",
    "transformed_img = model_transforms(img)\n",
    "print(transformed_img.shape)"
   ]
  },
  {
   "cell_type": "code",
   "execution_count": 4,
   "metadata": {},
   "outputs": [
    {
     "name": "stdout",
     "output_type": "stream",
     "text": [
      "torch.Size([1, 768])\n"
     ]
    }
   ],
   "source": [
    "# Embedding will be 1x768\n",
    "embedding = model(transformed_img)\n",
    "print(embedding.shape)"
   ]
  }
 ],
 "metadata": {
  "kernelspec": {
   "display_name": "bcib",
   "language": "python",
   "name": "python3"
  },
  "language_info": {
   "codemirror_mode": {
    "name": "ipython",
    "version": 3
   },
   "file_extension": ".py",
   "mimetype": "text/x-python",
   "name": "python",
   "nbconvert_exporter": "python",
   "pygments_lexer": "ipython3",
   "version": "3.8.20"
  }
 },
 "nbformat": 4,
 "nbformat_minor": 2
}
