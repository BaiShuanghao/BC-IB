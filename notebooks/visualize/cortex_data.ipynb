{
 "cells": [
  {
   "cell_type": "code",
   "execution_count": 1,
   "metadata": {},
   "outputs": [],
   "source": [
    "import pickle\n",
    "import cv2\n",
    "import numpy as np\n",
    "import os\n",
    "import torch"
   ]
  },
  {
   "cell_type": "code",
   "execution_count": null,
   "metadata": {},
   "outputs": [
    {
     "name": "stdout",
     "output_type": "stream",
     "text": [
      "Saved: output_images/frame_000.png\n",
      "Saved: output_images/frame_010.png\n",
      "Saved: output_images/frame_020.png\n",
      "Saved: output_images/frame_030.png\n",
      "Saved: output_images/frame_040.png\n",
      "Saved: output_images/frame_050.png\n",
      "Saved: output_images/frame_060.png\n",
      "Saved: output_images/frame_070.png\n",
      "Saved: output_images/frame_080.png\n",
      "Saved: output_images/frame_090.png\n",
      "Saved: output_images/frame_100.png\n",
      "Saved: output_images/frame_110.png\n",
      "Saved: output_images/frame_120.png\n",
      "Saved: output_images/frame_130.png\n",
      "Saved: output_images/frame_140.png\n",
      "Saved: output_images/frame_150.png\n",
      "Saved: output_images/frame_160.png\n",
      "Saved: output_images/frame_170.png\n",
      "Saved: output_images/frame_180.png\n",
      "Saved: output_images/frame_190.png\n",
      "Saved: output_images/frame_200.png\n",
      "Saved: output_images/frame_210.png\n",
      "Saved: output_images/frame_220.png\n",
      "Saved: output_images/frame_230.png\n",
      "Saved: output_images/frame_240.png\n",
      "Saved: output_images/frame_250.png\n",
      "Saved: output_images/frame_260.png\n",
      "Saved: output_images/frame_270.png\n",
      "Saved: output_images/frame_280.png\n",
      "Saved: output_images/frame_290.png\n",
      "Saved: output_images/frame_300.png\n",
      "Saved: output_images/frame_310.png\n",
      "Saved: output_images/frame_320.png\n",
      "Saved: output_images/frame_330.png\n",
      "Saved: output_images/frame_340.png\n",
      "Saved: output_images/frame_350.png\n",
      "Saved: output_images/frame_360.png\n",
      "Saved: output_images/frame_370.png\n",
      "Saved: output_images/frame_380.png\n",
      "Saved: output_images/frame_390.png\n",
      "Saved: output_images/frame_400.png\n",
      "Saved: output_images/frame_410.png\n",
      "Saved: output_images/frame_420.png\n",
      "Saved: output_images/frame_430.png\n",
      "Saved: output_images/frame_440.png\n",
      "Saved: output_images/frame_450.png\n",
      "Saved: output_images/frame_460.png\n",
      "Saved: output_images/frame_470.png\n",
      "Saved: output_images/frame_480.png\n",
      "Saved: output_images/frame_490.png\n",
      "Saved last frame: output_images/frame_last.png\n"
     ]
    }
   ],
   "source": [
    "# file_path = \"/baishuanghao/data/vc-1/adroit-expert-v1.0/relocate-v0.pickle\"\n",
    "# file_path = \"/baishuanghao/data/vc-1/dmc-expert-v1.0/dmc_walker_stand-v1.pickle\"\n",
    "file_path = \"/baishuanghao/data/vc-1/metaworld-expert-v1.0/bin-picking-v2-goal-observable.pickle\"\n",
    "\n",
    "output_folder = \"output_images\"\n",
    "os.makedirs(output_folder, exist_ok=True)  # 确保输出文件夹存在\n",
    "demo_paths = pickle.load(open(file_path, \"rb\"))\n",
    "\n",
    "images = demo_paths[4][\"images\"]\n",
    "\n",
    "# 每隔 20 帧保存一张图片\n",
    "for i in range(0, len(images), 10):  # 每隔 20 帧\n",
    "    img = images[i]  # 获取第 i 帧\n",
    "    img_bgr = cv2.cvtColor(img, cv2.COLOR_RGB2BGR)  # 转换为 BGR 格式\n",
    "    # img_bgr = cv2.flip(img_bgr, 0)\n",
    "\n",
    "    # 调整图片大小为 (224, 224)\n",
    "    resized_img = cv2.resize(img_bgr, (224, 224), interpolation=cv2.INTER_LINEAR)\n",
    "    \n",
    "    # 保存图片到文件夹\n",
    "    output_path = os.path.join(output_folder, f\"frame_{i:03d}.png\")\n",
    "    cv2.imwrite(output_path, resized_img)\n",
    "    print(f\"Saved: {output_path}\")\n",
    "\n",
    "# 处理最后一帧\n",
    "last_frame = images[-1]  # 获取最后一帧\n",
    "last_frame_bgr = cv2.cvtColor(last_frame, cv2.COLOR_RGB2BGR)  # 转换为 BGR 格式\n",
    "# last_frame_bgr = cv2.flip(last_frame_bgr, 0)  # 翻转图片（上下翻转）\n",
    "resized_last_frame = cv2.resize(last_frame_bgr, (224, 224), interpolation=cv2.INTER_LINEAR)\n",
    "\n",
    "# 保存最后一帧图片\n",
    "last_output_path = os.path.join(output_folder, \"frame_last.png\")\n",
    "cv2.imwrite(last_output_path, resized_last_frame)\n",
    "print(f\"Saved last frame: {last_output_path}\")"
   ]
  },
  {
   "cell_type": "code",
   "execution_count": 5,
   "metadata": {},
   "outputs": [
    {
     "name": "stdout",
     "output_type": "stream",
     "text": [
      "Saved: output_images/frame_000.png\n",
      "Saved: output_images/frame_001.png\n",
      "Saved: output_images/frame_002.png\n",
      "Saved: output_images/frame_003.png\n",
      "Saved: output_images/frame_004.png\n",
      "Saved: output_images/frame_005.png\n",
      "Saved: output_images/frame_006.png\n",
      "Saved: output_images/frame_007.png\n",
      "Saved: output_images/frame_008.png\n",
      "Saved: output_images/frame_009.png\n",
      "Saved: output_images/frame_010.png\n"
     ]
    }
   ],
   "source": [
    "file_path = \"/baishuanghao/data/vc-1/trifinger-demos/move/demo-0000/dts-0p4/downsample.pth\"\n",
    "output_folder = \"output_images\"\n",
    "os.makedirs(output_folder, exist_ok=True)  # 确保输出文件夹存在\n",
    "\n",
    "demo = torch.load(file_path)\n",
    "images = demo[\"image_60\"]\n",
    "# 每隔 20 帧保存一张图片\n",
    "for i in range(0, len(images), 1):  # 每隔 20 帧\n",
    "    img = images[i]  # 获取第 i 帧\n",
    "    img_bgr = cv2.cvtColor(img, cv2.COLOR_RGB2BGR)  # 转换为 BGR 格式\n",
    "    # img_bgr = cv2.flip(img_bgr, 0)\n",
    "\n",
    "    # 调整图片大小为 (224, 224)\n",
    "    resized_img = cv2.resize(img_bgr, (224, 224), interpolation=cv2.INTER_LINEAR)\n",
    "    \n",
    "    # 保存图片到文件夹\n",
    "    output_path = os.path.join(output_folder, f\"frame_{i:03d}.png\")\n",
    "    cv2.imwrite(output_path, resized_img)\n",
    "    print(f\"Saved: {output_path}\")"
   ]
  }
 ],
 "metadata": {
  "kernelspec": {
   "display_name": "bcib",
   "language": "python",
   "name": "python3"
  },
  "language_info": {
   "codemirror_mode": {
    "name": "ipython",
    "version": 3
   },
   "file_extension": ".py",
   "mimetype": "text/x-python",
   "name": "python",
   "nbconvert_exporter": "python",
   "pygments_lexer": "ipython3",
   "version": "3.8.20"
  }
 },
 "nbformat": 4,
 "nbformat_minor": 2
}
